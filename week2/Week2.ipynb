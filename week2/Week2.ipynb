{
 "cells": [
  {
   "cell_type": "code",
   "execution_count": 1,
   "id": "b227f93f-819d-42d1-8bd7-003112e6848d",
   "metadata": {},
   "outputs": [],
   "source": [
    "import cv2\n",
    "import numpy as np "
   ]
  },
  {
   "cell_type": "code",
   "execution_count": 2,
   "id": "29033dab-4da8-4a4b-b6e1-e8816383ed6f",
   "metadata": {},
   "outputs": [],
   "source": [
    "my_img = cv2.imread(\"./nebula.jpg\",1)\n",
    "my_img_1 = cv2.imread(\"./nebula.jpg\",0)"
   ]
  },
  {
   "cell_type": "code",
   "execution_count": 11,
   "id": "5e88e5f8-478e-4916-8cec-10aecb6fa651",
   "metadata": {},
   "outputs": [
    {
     "name": "stdout",
     "output_type": "stream",
     "text": [
      "<class 'numpy.ndarray'>\n",
      "<class 'numpy.ndarray'>\n",
      "****************************************************************************************************\n",
      "(1403, 1400, 3)\n",
      "(1403, 1400)\n"
     ]
    }
   ],
   "source": [
    "print(type(my_img))\n",
    "print(type(my_img_1))\n",
    "print(\"*\"*100)\n",
    "# shape ile goruntunun renk derinligini goruyoruz\n",
    "print(my_img.shape)\n",
    "print(my_img_1.shape)"
   ]
  },
  {
   "cell_type": "code",
   "execution_count": 59,
   "id": "ee3d915c-7f48-4631-a3f0-1f23206ea9f8",
   "metadata": {},
   "outputs": [],
   "source": [
    "my_img[:1,:1,:]\n",
    "#yeniden boyutlandirmak icin resize kullanilir cv2.resize(resim(genislik,yukseklik))\n",
    "#buyutmek icin INTER_CUBIC kucultmek icin IMTER_AREA her ikisi icin de INTER_LANCZOS4\n",
    "my_img = cv2.resize(my_img, (450, 450),cv2.INTER_LANCZOS4) \n",
    "my_img_1 = cv2.resize(my_img_1,(450,450),cv2.INTER_LANCZOS4)"
   ]
  },
  {
   "cell_type": "code",
   "execution_count": 60,
   "id": "51a81961-b724-4e05-8cbf-140b0dda0cbc",
   "metadata": {},
   "outputs": [
    {
     "name": "stdout",
     "output_type": "stream",
     "text": [
      "248\n",
      "0\n"
     ]
    }
   ],
   "source": [
    "\n",
    "print(np.max(my_img_1))\n",
    "print(np.min(my_img_1))"
   ]
  },
  {
   "cell_type": "code",
   "execution_count": 61,
   "id": "265a5905-d456-45b9-9eb8-9e014815bfef",
   "metadata": {},
   "outputs": [],
   "source": [
    "#imshow ile goruntu gosterilir\n",
    "cv2.imshow(\"RGB IMAGE \" , my_img)\n",
    "cv2.imshow(\"IMAGE\",my_img_1)\n",
    "cv2.waitKey(0)\n",
    "cv2.destroyAllWindows()"
   ]
  },
  {
   "cell_type": "code",
   "execution_count": 62,
   "id": "33969c60-b6d0-4832-b802-d5991d33692e",
   "metadata": {},
   "outputs": [],
   "source": [
    "#cevirme islemleri icin cv2.flip kullanilir\n",
    "flipping_vertical = cv2.flip(my_img,0)   # dikey eksende ters cevir (vertical)\n",
    "flipping_horizontal = cv2.flip(my_img,1) # yatay eksende ters cevir (yatay)\n",
    "flipping_both = cv2.flip(my_img,-1)     # hem dikey hem yatay eksende ters cevir. "
   ]
  },
  {
   "cell_type": "code",
   "execution_count": 63,
   "id": "d0ce6a0f-647d-4e2b-a9df-16897d863b91",
   "metadata": {},
   "outputs": [],
   "source": [
    "cv2.imshow(\"RGB IMAGE \" , my_img)\n",
    "cv2.imshow(\"vertical IMAGE \" , flipping_vertical)\n",
    "cv2.imshow(\"horizontal IMAGE \" , flipping_horizontal)\n",
    "cv2.imshow(\"both IMAGE \" , flipping_both)\n",
    "cv2.waitKey(0)\n",
    "cv2.destroyAllWindows()\n"
   ]
  },
  {
   "cell_type": "code",
   "execution_count": 64,
   "id": "a34f424d-7e5e-4178-a4c2-3089510a569f",
   "metadata": {},
   "outputs": [],
   "source": [
    "# kod ile vertical hale getirlisi\n",
    "new_vertical = my_img[::-1,:,:] # bu kod cv2.flip ile ayni isi kullaniyor\n",
    "cv2.imshow(\"vertical IMAGE \" , new_vertical)\n",
    "cv2.imshow(\"main IMAGE \" , my_img)\n",
    "cv2.waitKey(0)\n",
    "cv2.destroyAllWindows()"
   ]
  },
  {
   "cell_type": "code",
   "execution_count": 65,
   "id": "901027c4-195b-49b6-b61d-b07f744e4b0a",
   "metadata": {},
   "outputs": [],
   "source": [
    "# kod ile horizontal hale getirlisi\n",
    "new_horizontal = my_img[:,::-1,:] # bu kod cv2.flip ile ayni isi kullaniyor\n",
    "cv2.imshow(\"horizontal IMAGE \" , new_horizontal)\n",
    "cv2.imshow(\"main IMAGE \" , my_img)\n",
    "cv2.waitKey(0)\n",
    "cv2.destroyAllWindows()"
   ]
  },
  {
   "cell_type": "code",
   "execution_count": 66,
   "id": "10ca2e0b-3bd6-408f-b36b-b09288cc16ea",
   "metadata": {},
   "outputs": [],
   "source": [
    "# kod ile both  hale getirlisi\n",
    "both = my_img[::-1,::-1,:] # bu kod cv2.flip ile ayni isi kullaniyor\n",
    "cv2.imshow(\"horizontal IMAGE \" , both)\n",
    "cv2.imshow(\"main IMAGE \" , my_img)\n",
    "cv2.waitKey(0)\n",
    "cv2.destroyAllWindows()"
   ]
  },
  {
   "cell_type": "code",
   "execution_count": null,
   "id": "005ee693-1df5-47cc-bacd-6505728bb6d6",
   "metadata": {},
   "outputs": [],
   "source": []
  },
  {
   "cell_type": "code",
   "execution_count": null,
   "id": "c8874d88-1786-46f7-a1be-8f77f028253e",
   "metadata": {},
   "outputs": [],
   "source": []
  }
 ],
 "metadata": {
  "kernelspec": {
   "display_name": "myenv",
   "language": "python",
   "name": "myenv"
  },
  "language_info": {
   "codemirror_mode": {
    "name": "ipython",
    "version": 3
   },
   "file_extension": ".py",
   "mimetype": "text/x-python",
   "name": "python",
   "nbconvert_exporter": "python",
   "pygments_lexer": "ipython3",
   "version": "3.11.7"
  }
 },
 "nbformat": 4,
 "nbformat_minor": 5
}
